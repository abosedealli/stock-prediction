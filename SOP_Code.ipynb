{
  "cells": [
    {
      "cell_type": "markdown",
      "metadata": {
        "id": "fiPfNrJ_gnbe"
      },
      "source": [
        "# Data Preprocessing"
      ]
    },
    {
      "cell_type": "code",
      "execution_count": 1,
      "metadata": {
        "colab": {
          "base_uri": "https://localhost:8080/"
        },
        "id": "7O8_fFKV44bE",
        "outputId": "350b8ddf-bf0e-461a-fd05-be69cc156059"
      },
      "outputs": [
        {
          "output_type": "stream",
          "name": "stdout",
          "text": [
            "Mounted at /content/drive\n"
          ]
        }
      ],
      "source": [
        "from google.colab import drive\n",
        "drive.mount('/content/drive')"
      ]
    },
    {
      "cell_type": "code",
      "execution_count": 2,
      "metadata": {
        "id": "NHVeGh4sgmAs",
        "colab": {
          "base_uri": "https://localhost:8080/"
        },
        "outputId": "1c572376-3f94-4a05-d70e-e0a6e966eaf4"
      },
      "outputs": [
        {
          "output_type": "execute_result",
          "data": {
            "text/plain": [
              "0        23.4375\n",
              "1        23.2500\n",
              "2        22.6250\n",
              "3        22.3750\n",
              "4        22.0000\n",
              "          ...   \n",
              "19594    55.6400\n",
              "19595    55.8000\n",
              "19596    55.5800\n",
              "19597    54.5700\n",
              "19598    54.8400\n",
              "Name: 0111145D UN Equity, Length: 19599, dtype: float64"
            ]
          },
          "metadata": {},
          "execution_count": 2
        }
      ],
      "source": [
        "import numpy as np\n",
        "import pandas as pd\n",
        "import matplotlib.pyplot as plt\n",
        "\n",
        "df = pd.read_csv('/content/drive/MyDrive/final.csv')\n",
        "df.pop(\"Unnamed: 0\") #removes specified column from dataframe\n",
        "df = df.set_index(\"Date\") #setting index of data frame\n",
        "df = df.dropna(axis=1,how='all') #drops rows which have null values\n",
        "df2 = df['0111145D UN Equity'] \n",
        "df2 = df2.dropna()\n",
        "df2.reset_index(drop = True)\n",
        "#df = df.drop('0111145D UN Equity', axis=1)\n"
      ]
    },
    {
      "cell_type": "code",
      "execution_count": 3,
      "metadata": {
        "colab": {
          "base_uri": "https://localhost:8080/"
        },
        "id": "Wkflx1QfYqE3",
        "outputId": "9982cda4-006f-49b5-866e-fd2157f3b2cb"
      },
      "outputs": [
        {
          "output_type": "stream",
          "name": "stdout",
          "text": [
            "(19599,)\n"
          ]
        }
      ],
      "source": [
        "print(df2.shape)  #gives dimensions of the data frame"
      ]
    },
    {
      "cell_type": "code",
      "execution_count": 4,
      "metadata": {
        "colab": {
          "base_uri": "https://localhost:8080/"
        },
        "id": "S89rmPtpXPxf",
        "outputId": "8eddd350-d281-43a0-ade9-36d09aa6fd2b"
      },
      "outputs": [
        {
          "output_type": "stream",
          "name": "stdout",
          "text": [
            "17639\n"
          ]
        }
      ],
      "source": [
        "print(int((len(df2)*0.9)))"
      ]
    },
    {
      "cell_type": "markdown",
      "metadata": {
        "id": "WffCA0d9hXkA"
      },
      "source": [
        "# Train Test Data & Split"
      ]
    },
    {
      "cell_type": "code",
      "execution_count": 5,
      "metadata": {
        "id": "sMpmRVzHhbuO"
      },
      "outputs": [],
      "source": [
        "from sklearn.preprocessing import MinMaxScaler\n",
        "scaler = MinMaxScaler(feature_range = (0, 1)) #transforms each feature individually into the range 0 to 1.\n",
        "df2 = scaler.fit_transform(np.array(df2).reshape(-1, 1)) #number of rows are unknown but the number of columns is 1. ths function reshapes the array\n",
        "\n",
        "train_size = int(len(df2)*0.9)  # 90% of df2 is given as training data\n",
        "test_size = len(df2) - train_size  #remaining 10% is the testing data\n",
        "train_data = df2[0:train_size, :]\n",
        "test_data = df2[train_size : len(df2), :1]\n",
        "\n",
        "def create_2d_dataset(dataset, time_step):  #for making dataset values into a matrix\n",
        "    Xdata, Ydata = [], []\n",
        "    for i in range(len(dataset)-time_step-1):\n",
        "        record = dataset[i:(i+time_step), 0]\n",
        "        Xdata.append(record)\n",
        "        Ydata.append(dataset[i+time_step, 0])\n",
        "    return np.array(Xdata), np.array(Ydata)"
      ]
    },
    {
      "cell_type": "code",
      "execution_count": 6,
      "metadata": {
        "id": "f62IWJKehjgQ"
      },
      "outputs": [],
      "source": [
        "time_step = 100\n",
        "X_train, y_train = create_2d_dataset(train_data, time_step)\n",
        "X_test, y_test = create_2d_dataset(test_data, time_step)"
      ]
    },
    {
      "cell_type": "code",
      "execution_count": 7,
      "metadata": {
        "id": "uwAfveN6hovs"
      },
      "outputs": [],
      "source": [
        "X_train = X_train.reshape(X_train.shape[0], X_train.shape[1], 1)\n",
        "X_test = X_test.reshape(X_test.shape[0], X_test.shape[1], 1)"
      ]
    },
    {
      "cell_type": "code",
      "execution_count": 8,
      "metadata": {
        "colab": {
          "base_uri": "https://localhost:8080/"
        },
        "id": "xjNwEJUlcvj_",
        "outputId": "241832c2-e083-48e8-b3b7-e42fee015b06"
      },
      "outputs": [
        {
          "output_type": "stream",
          "name": "stdout",
          "text": [
            "[[[0.62836491]\n",
            "  [0.60468594]\n",
            "  [0.61390828]\n",
            "  ...\n",
            "  [0.56380857]\n",
            "  [0.55608175]\n",
            "  [0.55358923]]\n",
            "\n",
            " [[0.60468594]\n",
            "  [0.61390828]\n",
            "  [0.60244267]\n",
            "  ...\n",
            "  [0.55608175]\n",
            "  [0.55358923]\n",
            "  [0.57377866]]\n",
            "\n",
            " [[0.61390828]\n",
            "  [0.60244267]\n",
            "  [0.59895314]\n",
            "  ...\n",
            "  [0.55358923]\n",
            "  [0.57377866]\n",
            "  [0.57103689]]\n",
            "\n",
            " ...\n",
            "\n",
            " [[0.94167498]\n",
            "  [0.93220339]\n",
            "  [0.93594217]\n",
            "  ...\n",
            "  [0.95314058]\n",
            "  [0.94242273]\n",
            "  [0.95064806]]\n",
            "\n",
            " [[0.93220339]\n",
            "  [0.93594217]\n",
            "  [0.94491525]\n",
            "  ...\n",
            "  [0.94242273]\n",
            "  [0.95064806]\n",
            "  [0.95463609]]\n",
            "\n",
            " [[0.93594217]\n",
            "  [0.94491525]\n",
            "  [0.95962114]\n",
            "  ...\n",
            "  [0.95064806]\n",
            "  [0.95463609]\n",
            "  [0.94915254]]]\n"
          ]
        }
      ],
      "source": [
        "print((X_test))"
      ]
    },
    {
      "cell_type": "code",
      "execution_count": 9,
      "metadata": {
        "colab": {
          "base_uri": "https://localhost:8080/"
        },
        "id": "gM29xAJ4YBCZ",
        "outputId": "b7e46f4c-7fd9-4059-ea93-a7f17cd56269"
      },
      "outputs": [
        {
          "output_type": "stream",
          "name": "stdout",
          "text": [
            "(17538, 100, 1)\n",
            "(1859, 100, 1)\n"
          ]
        }
      ],
      "source": [
        "print(X_train.shape)\n",
        "print(X_test.shape)"
      ]
    },
    {
      "cell_type": "markdown",
      "metadata": {
        "id": "e4tx4rtseXXI"
      },
      "source": [
        "# Model Creation"
      ]
    },
    {
      "cell_type": "code",
      "execution_count": 10,
      "metadata": {
        "id": "dj14NUmAg7wl"
      },
      "outputs": [],
      "source": [
        "import tensorflow as tf"
      ]
    },
    {
      "cell_type": "code",
      "execution_count": 11,
      "metadata": {
        "colab": {
          "base_uri": "https://localhost:8080/"
        },
        "id": "v7CDL2m-eccm",
        "outputId": "3a551fe3-e097-472b-9bf1-097d0827e888"
      },
      "outputs": [
        {
          "output_type": "stream",
          "name": "stdout",
          "text": [
            "Model: \"sequential\"\n",
            "_________________________________________________________________\n",
            " Layer (type)                Output Shape              Param #   \n",
            "=================================================================\n",
            " lstm (LSTM)                 (None, 50)                10400     \n",
            "                                                                 \n",
            " dense (Dense)               (None, 32)                1632      \n",
            "                                                                 \n",
            " dense_1 (Dense)             (None, 16)                528       \n",
            "                                                                 \n",
            " dense_2 (Dense)             (None, 8)                 136       \n",
            "                                                                 \n",
            " dense_3 (Dense)             (None, 1)                 9         \n",
            "                                                                 \n",
            "=================================================================\n",
            "Total params: 12,705\n",
            "Trainable params: 12,705\n",
            "Non-trainable params: 0\n",
            "_________________________________________________________________\n"
          ]
        }
      ],
      "source": [
        "model = tf.keras.Sequential([    #sequential refers to a model that forms a cluster of layers that is stacked linearly\n",
        "                    tf.keras.layers.LSTM(50, input_shape=(100, 1)),\n",
        "                     tf.keras.layers.Dense(32, activation=tf.nn.relu),\n",
        "                    tf.keras.layers.Dense(16, activation=tf.nn.relu), #Implements a dense NN # layer1\n",
        "                    tf.keras.layers.Dense(8, activation=tf.nn.relu), #layer2\n",
        "                    tf.keras.layers.Dense(1) #layer3\n",
        "                    \n",
        "])\n",
        "model.compile(loss = 'mean_squared_error', optimizer = 'adam')\n",
        "\n",
        "model.summary()"
      ]
    },
    {
      "cell_type": "markdown",
      "metadata": {
        "id": "UMBb8DJKNwOZ"
      },
      "source": [
        "A **Dense Neutral Network** Layer is a layer that is deeply connected with its preceding layer which means the neurons of the layer are connected to every neuron of its preceding layer."
      ]
    },
    {
      "cell_type": "code",
      "execution_count": null,
      "metadata": {
        "id": "VU_oqprYh0Ny"
      },
      "outputs": [],
      "source": [
        "help(tf.keras.layers.LSTM)"
      ]
    },
    {
      "cell_type": "code",
      "execution_count": 13,
      "metadata": {
        "colab": {
          "base_uri": "https://localhost:8080/"
        },
        "id": "I2dso6jykWc5",
        "outputId": "a3a17625-a9b0-49a5-efe0-a4b749dba099"
      },
      "outputs": [
        {
          "output_type": "stream",
          "name": "stdout",
          "text": [
            "Epoch 1/20\n",
            "176/176 - 8s - loss: 0.0064 - val_loss: 0.0011 - 8s/epoch - 44ms/step\n",
            "Epoch 2/20\n",
            "176/176 - 1s - loss: 5.0413e-04 - val_loss: 0.0011 - 1s/epoch - 6ms/step\n",
            "Epoch 3/20\n",
            "176/176 - 1s - loss: 4.2088e-04 - val_loss: 0.0010 - 1s/epoch - 6ms/step\n",
            "Epoch 4/20\n",
            "176/176 - 1s - loss: 3.8709e-04 - val_loss: 0.0011 - 1s/epoch - 6ms/step\n",
            "Epoch 5/20\n",
            "176/176 - 1s - loss: 3.6804e-04 - val_loss: 9.2248e-04 - 1s/epoch - 6ms/step\n",
            "Epoch 6/20\n",
            "176/176 - 1s - loss: 3.3129e-04 - val_loss: 0.0011 - 1s/epoch - 7ms/step\n",
            "Epoch 7/20\n",
            "176/176 - 1s - loss: 3.3474e-04 - val_loss: 7.3513e-04 - 1s/epoch - 6ms/step\n",
            "Epoch 8/20\n",
            "176/176 - 1s - loss: 3.1065e-04 - val_loss: 5.0890e-04 - 1s/epoch - 6ms/step\n",
            "Epoch 9/20\n",
            "176/176 - 1s - loss: 3.0455e-04 - val_loss: 5.8621e-04 - 1s/epoch - 6ms/step\n",
            "Epoch 10/20\n",
            "176/176 - 1s - loss: 3.0980e-04 - val_loss: 4.8685e-04 - 1s/epoch - 6ms/step\n",
            "Epoch 11/20\n",
            "176/176 - 1s - loss: 2.9716e-04 - val_loss: 4.9834e-04 - 1s/epoch - 6ms/step\n",
            "Epoch 12/20\n",
            "176/176 - 1s - loss: 3.0171e-04 - val_loss: 4.9535e-04 - 1s/epoch - 6ms/step\n",
            "Epoch 13/20\n",
            "176/176 - 1s - loss: 2.9298e-04 - val_loss: 6.1631e-04 - 1s/epoch - 6ms/step\n",
            "Epoch 14/20\n",
            "176/176 - 1s - loss: 2.7563e-04 - val_loss: 4.5517e-04 - 1s/epoch - 6ms/step\n",
            "Epoch 15/20\n",
            "176/176 - 1s - loss: 2.7970e-04 - val_loss: 5.7624e-04 - 1s/epoch - 6ms/step\n",
            "Epoch 16/20\n",
            "176/176 - 1s - loss: 2.7216e-04 - val_loss: 6.8263e-04 - 1s/epoch - 6ms/step\n",
            "Epoch 17/20\n",
            "176/176 - 1s - loss: 2.6710e-04 - val_loss: 4.2843e-04 - 1s/epoch - 6ms/step\n",
            "Epoch 18/20\n",
            "176/176 - 1s - loss: 2.6359e-04 - val_loss: 4.1199e-04 - 1s/epoch - 6ms/step\n",
            "Epoch 19/20\n",
            "176/176 - 1s - loss: 2.6401e-04 - val_loss: 5.4740e-04 - 1s/epoch - 6ms/step\n",
            "Epoch 20/20\n",
            "176/176 - 1s - loss: 2.6128e-04 - val_loss: 4.7698e-04 - 1s/epoch - 6ms/step\n"
          ]
        }
      ],
      "source": [
        "Summary = model.fit(X_train, y_train, validation_data = (X_test, y_test), epochs = 20, batch_size = 100, verbose = 2)"
      ]
    },
    {
      "cell_type": "markdown",
      "metadata": {
        "id": "HuvTRvnfQAC1"
      },
      "source": [
        "An epoch is a term used in machine learning and indicates the number of passes of the entire training dataset the machine learning algorithm has completed. By setting verbose 0, 1 or 2 you just say how do you want to 'see' the training progress for each epoch."
      ]
    },
    {
      "cell_type": "code",
      "execution_count": 14,
      "metadata": {
        "colab": {
          "base_uri": "https://localhost:8080/",
          "height": 295
        },
        "id": "KmrN7_wx2Qld",
        "outputId": "60589615-977a-46ae-e036-393eda461610"
      },
      "outputs": [
        {
          "output_type": "display_data",
          "data": {
            "text/plain": [
              "<Figure size 432x288 with 1 Axes>"
            ],
            "image/png": "[encoded data removed]"
          },
          "metadata": {
            "needs_background": "light"
          }
        }
      ],
      "source": [
        "plt.plot(Summary.history['loss'])\n",
        "plt.plot(Summary.history['val_loss'])\n",
        "plt.title('Model Loss')\n",
        "plt.xlabel('epochs')\n",
        "plt.ylabel('Loss')\n",
        "plt.legend(['train', 'test'], loc = 'upper right')\n",
        "plt.show()"
      ]
    },
    {
      "cell_type": "code",
      "execution_count": 15,
      "metadata": {
        "colab": {
          "base_uri": "https://localhost:8080/"
        },
        "id": "cMIW6TZEWUSf",
        "outputId": "87f9ec90-5263-4dec-ead8-0385a5ef6543"
      },
      "outputs": [
        {
          "output_type": "stream",
          "name": "stdout",
          "text": [
            "(17538, 100, 1)\n",
            "(1859, 100, 1)\n"
          ]
        }
      ],
      "source": [
        "print(X_train.shape)\n",
        "print(X_test.shape)"
      ]
    },
    {
      "cell_type": "code",
      "execution_count": 16,
      "metadata": {
        "colab": {
          "base_uri": "https://localhost:8080/"
        },
        "id": "H48r-ApakolL",
        "outputId": "866056fb-9cee-4235-d502-2f9755cd35d1"
      },
      "outputs": [
        {
          "output_type": "stream",
          "name": "stdout",
          "text": [
            "549/549 [==============================] - 2s 3ms/step\n",
            "59/59 [==============================] - 0s 3ms/step\n"
          ]
        }
      ],
      "source": [
        "train_predict = model.predict(X_train)\n",
        "test_predict = model.predict(X_test)"
      ]
    },
    {
      "cell_type": "markdown",
      "source": [
        " A model can be created and fitted with trained data, and used to make a \n",
        "prediction"
      ],
      "metadata": {
        "id": "nd-hwJVAh9ed"
      }
    },
    {
      "cell_type": "code",
      "execution_count": 17,
      "metadata": {
        "id": "K_thjLSllnXY"
      },
      "outputs": [],
      "source": [
        "train_predict = scaler.inverse_transform(train_predict)\n",
        "test_predict = scaler.inverse_transform(test_predict)"
      ]
    },
    {
      "cell_type": "markdown",
      "metadata": {
        "id": "3urcrii3GpRx"
      },
      "source": [
        "# Model Results & Plots"
      ]
    },
    {
      "cell_type": "code",
      "execution_count": 18,
      "metadata": {
        "id": "eaw9U2bhlymz"
      },
      "outputs": [],
      "source": [
        "from sklearn.metrics import mean_squared_error\n",
        "testScore = np.sqrt(mean_squared_error(y_test, test_predict))"
      ]
    },
    {
      "cell_type": "code",
      "execution_count": 19,
      "metadata": {
        "id": "zcU6VMfhpP3p"
      },
      "outputs": [],
      "source": [
        "lookback = 100\n",
        "trainPredictPlot = np.empty_like(df)\n",
        "trainPredictPlot[:,:] = np.nan\n",
        "trainPredictPlot[lookback:len(test_predict)+lookback, :] = test_predict\n",
        "\n",
        "testPredictPlot = np.empty_like(df)\n",
        "testPredictPlot[:, :] = np.nan\n",
        "testPredictPlot[len(train_predict) + lookback*2 + 1: len(df2)-1, :] = test_predict\n"
      ]
    },
    {
      "cell_type": "code",
      "execution_count": 20,
      "metadata": {
        "colab": {
          "base_uri": "https://localhost:8080/",
          "height": 265
        },
        "id": "dc2AEr4O-IRw",
        "outputId": "15627ed2-728a-4cc0-8788-a752b81714db"
      },
      "outputs": [
        {
          "output_type": "display_data",
          "data": {
            "text/plain": [
              "<Figure size 432x288 with 1 Axes>"
            ],
            "image/png": "[encoded data removed]"
          },
          "metadata": {
            "needs_background": "light"
          }
        }
      ],
      "source": [
        "plt.plot((scaler.inverse_transform(df2))[17000:19599, :])\n",
        "plt.plot(testPredictPlot[17000:19599, :])\n",
        "plt.show()"
      ]
    },
    {
      "cell_type": "code",
      "execution_count": 20,
      "metadata": {
        "id": "wT9xKLe7MOO7"
      },
      "outputs": [],
      "source": []
    }
  ],
  "metadata": {
    "accelerator": "GPU",
    "colab": {
      "provenance": []
    },
    "kernelspec": {
      "display_name": "Python 3",
      "name": "python3"
    },
    "language_info": {
      "name": "python"
    }
  },
  "nbformat": 4,
  "nbformat_minor": 0
}